{
 "cells": [
  {
   "cell_type": "code",
   "execution_count": 15,
   "id": "27c49b09-1636-4292-a675-ef79e2d34ed6",
   "metadata": {},
   "outputs": [
    {
     "name": "stdin",
     "output_type": "stream",
     "text": [
      "Please enter your name :  priya\n"
     ]
    },
    {
     "name": "stdout",
     "output_type": "stream",
     "text": [
      "Welcome priya  To my Game World\n"
     ]
    },
    {
     "name": "stdin",
     "output_type": "stream",
     "text": [
      "Do you want to play my Adventurous Game : yes\n"
     ]
    },
    {
     "name": "stdout",
     "output_type": "stream",
     "text": [
      "Great , let's Move forward ...\n"
     ]
    }
   ],
   "source": [
    "import random \n",
    "\n",
    "user_score =0;\n",
    "\n",
    "name= input (\"Please enter your name : \") \n",
    "\n",
    "print(\"Welcome \" + name +\" \" + \" To my Game World\" )\n",
    "\n",
    "playconsent= input(\"Do you want to play my Adventurous Game :\").lower()\n",
    "if playconsent== \"yes\":\n",
    "    print(\"Great , let's Move forward ...\")\n",
    "else:\n",
    "    print(\"It's sad to see you go ..\")"
   ]
  },
  {
   "cell_type": "code",
   "execution_count": 43,
   "id": "bad0dbe7-5816-49c5-a59c-4b9dd534c7b8",
   "metadata": {},
   "outputs": [
    {
     "name": "stdin",
     "output_type": "stream",
     "text": [
      "Please enter your name :  priya\n"
     ]
    },
    {
     "name": "stdout",
     "output_type": "stream",
     "text": [
      "Welcome priya  To my Game World\n"
     ]
    },
    {
     "name": "stdin",
     "output_type": "stream",
     "text": [
      "Do you want to play my Adventurous Game : yes\n"
     ]
    },
    {
     "name": "stdout",
     "output_type": "stream",
     "text": [
      "Great , let's Move forward ...\n",
      "You are on a direction road , now you can go left or Right \n"
     ]
    },
    {
     "name": "stdin",
     "output_type": "stream",
     "text": [
      "Enter your Answer : right\n"
     ]
    },
    {
     "name": "stdout",
     "output_type": "stream",
     "text": [
      "You are on a river , now you can now walk around or swim across. Type walk to 'walk around' and swim to 'swim across' \n"
     ]
    },
    {
     "name": "stdin",
     "output_type": "stream",
     "text": [
      "Enter your Answer : walk\n"
     ]
    },
    {
     "name": "stdout",
     "output_type": "stream",
     "text": [
      "Opss..there was a tiger in the road , he ate you .. \n",
      "You lose !!\n",
      "Thankyou for trying priya\n"
     ]
    }
   ],
   "source": [
    "import random \n",
    "\n",
    "# user_score =0;\n",
    "\n",
    "name= input (\"Please enter your name : \") \n",
    "\n",
    "print(\"Welcome \" + name +\" \" + \" To my Game World\" )\n",
    "\n",
    "playconsent= input(\"Do you want to play my Adventurous Game :\").lower()\n",
    "\n",
    "\n",
    "if playconsent== \"yes\":\n",
    "    print(\"Great , let's Move forward ...\")\n",
    "else:\n",
    "    print(\"It's sad to see you go ..\")\n",
    "\n",
    "print(\"You are on a direction road , now you can go left or Right \")\n",
    "leftORright = input(\"Enter your Answer :\").lower()\n",
    "\n",
    "if leftORright == \"right\":\n",
    "    print(\"You are on a river , now you can now walk around or swim across. Type walk to 'walk around' and swim to 'swim across' \")\n",
    "    walk_or_swim = input(\"Enter your Answer :\").lower()\n",
    "    if walk_or_swim == \"swim\":\n",
    "        print(\"Great , you crossed the river successfully\")\n",
    "        print(\"You win !!! \")\n",
    "    elif walk_or_swim == \"walk\":\n",
    "        print(\"Opss..there was a tiger in the road , he ate you .. \");\n",
    "        print(\"You lose !!\")\n",
    "    else:\n",
    "        print(\"Not a valid option , you lose ,\");\n",
    "    \n",
    "\n",
    "\n",
    "elif leftORright == \"left\":\n",
    "    print(\"You are on a huge bridge ,It looks scary . Do you want to cross it or head back ? Type cross to 'cross the bridge' and back to 'exit the Game ' \") \n",
    "    cross_or_back = input(\"Enter your Answer :\").lower()\n",
    "    if cross_or_back == \"cross\":\n",
    "        print(\"Great choice , you win !!!\")\n",
    "    elif cross_or_back == \"back\":\n",
    "        print(\"You lose!!!\")\n",
    "        # break ;\n",
    "    else :\n",
    "        print(\"Not a valid option , you lose !!!\");\n",
    "else :\n",
    "    print(\"Not a valid option , you lose !!!\");\n",
    "\n",
    "print(\"Thankyou for trying \" + name )\n"
   ]
  },
  {
   "cell_type": "code",
   "execution_count": null,
   "id": "36b3d49a-2cf2-4e9d-8989-64293311abcc",
   "metadata": {},
   "outputs": [],
   "source": []
  }
 ],
 "metadata": {
  "kernelspec": {
   "display_name": "Python 3 (ipykernel)",
   "language": "python",
   "name": "python3"
  },
  "language_info": {
   "codemirror_mode": {
    "name": "ipython",
    "version": 3
   },
   "file_extension": ".py",
   "mimetype": "text/x-python",
   "name": "python",
   "nbconvert_exporter": "python",
   "pygments_lexer": "ipython3",
   "version": "3.11.4"
  }
 },
 "nbformat": 4,
 "nbformat_minor": 5
}
