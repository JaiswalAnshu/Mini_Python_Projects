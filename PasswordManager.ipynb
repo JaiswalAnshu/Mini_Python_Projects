{
 "cells": [
  {
   "cell_type": "code",
   "execution_count": null,
   "id": "ea8f78de-0a00-46d3-a063-9229410d6331",
   "metadata": {},
   "outputs": [
    {
     "name": "stdin",
     "output_type": "stream",
     "text": [
      "What is your master Password ? priya\n",
      "Do you want to add a new password or view existing passwords (view/add) ,  press 'q' to quit ? add\n",
      " User Account :  golu\n",
      "Password :  gooooluuuu\n",
      "Do you want to add a new password or view existing passwords (view/add) ,  press 'q' to quit ? view\n"
     ]
    },
    {
     "name": "stdout",
     "output_type": "stream",
     "text": [
      "user:  my  \n",
      " password:   name123\n",
      "user:  priya  \n",
      " password:   andso_\n",
      "user:  sabya  \n",
      " password:   sabya.\n",
      "user:  golu  \n",
      " password:   gooooluuuu\n"
     ]
    }
   ],
   "source": [
    "\n",
    "master_pwd = input(\"What is your master Password ?\").lower();\n",
    "\n",
    "    \n",
    "\n",
    "def view ():\n",
    "    with open('password_manager.txt' , 'r') as f:\n",
    "        for line in f.readlines():\n",
    "            data =line.rstrip();\n",
    "            user , passw = data.split (\"|\")\n",
    "            print(\"user: \" ,user , \"\\n\",\"password: \" ,passw)\n",
    "            \n",
    "\n",
    "\n",
    "def add ():\n",
    "    User_name = input(\" User Account : \");\n",
    "    pwd = input(\"Password : \");\n",
    "    \n",
    "    with open ('password_manager.txt','a') as f :\n",
    "        f.write(User_name + \" | \" + pwd + '\\n' ) ;   \n",
    "    \n",
    "while True:\n",
    "    action= input(\"Do you want to add a new password or view existing passwords (view/add) ,  press 'q' to quit ?\").lower();\n",
    "    if action == 'view':\n",
    "        view ();\n",
    "    elif action == 'add':\n",
    "       add ();\n",
    "    elif action == 'q':\n",
    "        print(\"It's sad to see you go..\")\n",
    "        break ;\n",
    "    else :\n",
    "        print(\"Wrong choice , please try again \");\n",
    "        continue;\n",
    "\n"
   ]
  },
  {
   "cell_type": "code",
   "execution_count": null,
   "id": "d7d72d6e-309b-434c-88fc-9e0aa681f7aa",
   "metadata": {},
   "outputs": [],
   "source": []
  },
  {
   "cell_type": "code",
   "execution_count": null,
   "id": "77c7bc87-ac60-4aba-89ea-393f47698c2f",
   "metadata": {},
   "outputs": [],
   "source": []
  },
  {
   "cell_type": "code",
   "execution_count": null,
   "id": "fa08fc7b-ae49-48b2-9ac4-8f3275ddb81c",
   "metadata": {},
   "outputs": [],
   "source": []
  },
  {
   "cell_type": "code",
   "execution_count": null,
   "id": "43856614-658c-4a03-a1b7-6ce35e9be477",
   "metadata": {},
   "outputs": [],
   "source": []
  }
 ],
 "metadata": {
  "kernelspec": {
   "display_name": "Python 3 (ipykernel)",
   "language": "python",
   "name": "python3"
  },
  "language_info": {
   "codemirror_mode": {
    "name": "ipython",
    "version": 3
   },
   "file_extension": ".py",
   "mimetype": "text/x-python",
   "name": "python",
   "nbconvert_exporter": "python",
   "pygments_lexer": "ipython3",
   "version": "3.11.4"
  }
 },
 "nbformat": 4,
 "nbformat_minor": 5
}
