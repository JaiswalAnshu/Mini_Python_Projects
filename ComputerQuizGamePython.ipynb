{
 "cells": [
  {
   "cell_type": "code",
   "execution_count": 7,
   "id": "fb069186-7c56-4333-9c97-367f1c3b2215",
   "metadata": {},
   "outputs": [
    {
     "name": "stdout",
     "output_type": "stream",
     "text": [
      "Welcome to my Computer Quiz Game !!!!\n"
     ]
    },
    {
     "name": "stdin",
     "output_type": "stream",
     "text": [
      "Do you want to play the Game ?  yes\n"
     ]
    },
    {
     "name": "stdout",
     "output_type": "stream",
     "text": [
      "Let's Start .....\n",
      "Here are your  questions .. \n",
      "\n",
      "\n"
     ]
    },
    {
     "name": "stdin",
     "output_type": "stream",
     "text": [
      "What does CPU stand for  :  central processing unit\n"
     ]
    },
    {
     "name": "stdout",
     "output_type": "stream",
     "text": [
      "Correct\n",
      "\n",
      "\n"
     ]
    },
    {
     "name": "stdin",
     "output_type": "stream",
     "text": [
      "What does GPU stand for  :  graphic processing unit\n"
     ]
    },
    {
     "name": "stdout",
     "output_type": "stream",
     "text": [
      "Correct\n",
      "\n",
      "\n"
     ]
    },
    {
     "name": "stdin",
     "output_type": "stream",
     "text": [
      "What does RAM stand for  :  ewwe\n"
     ]
    },
    {
     "name": "stdout",
     "output_type": "stream",
     "text": [
      "Wrong Answer\n",
      "\n",
      "\n"
     ]
    },
    {
     "name": "stdin",
     "output_type": "stream",
     "text": [
      "What does ALU  stand for  :  ewa\n"
     ]
    },
    {
     "name": "stdout",
     "output_type": "stream",
     "text": [
      "Wrong Answer\n",
      "\n",
      "\n"
     ]
    },
    {
     "name": "stdin",
     "output_type": "stream",
     "text": [
      "What does PSU stand for  :  deea\n"
     ]
    },
    {
     "name": "stdout",
     "output_type": "stream",
     "text": [
      "Wrong Answer\n",
      "\n",
      "\n",
      "You got 2 questions correct\n",
      "Your final score is:  40.0 %\n"
     ]
    }
   ],
   "source": [
    "print(\"Welcome to my Computer Quiz Game !!!!\")\n",
    "\n",
    "ConsentToPlay= input(\"Do you want to play the Game ? \")\n",
    "\n",
    "if ConsentToPlay != \"yes\"  :\n",
    "    print(\"It's sad to see you Go ...\");\n",
    "    # quit();\n",
    "else :\n",
    "     print(\"Let's Start .....\");\n",
    "\n",
    "score=0\n",
    "print(\"Here are your  questions .. \")\n",
    "\n",
    "print(\"\\n\")\n",
    "Ques1 = input(\"What does CPU stand for  : \")\n",
    "if Ques1 == \"central processing unit\" :\n",
    "    print(\"Correct\")\n",
    "    score +=1;\n",
    "else :\n",
    "     print(\"Wrong Answer\")\n",
    "\n",
    "print(\"\\n\")\n",
    "\n",
    "\n",
    "Ques2 = input(\"What does GPU stand for  : \")\n",
    "if Ques2 == \"graphic processing unit\" :\n",
    "    print(\"Correct\")\n",
    "    score +=1;\n",
    "else :\n",
    "     print(\"Wrong Answer\")\n",
    "print(\"\\n\")\n",
    "\n",
    "Ques3 = input(\"What does RAM stand for  : \")\n",
    "if Ques3 == \"random access memory\" :\n",
    "    print(\"Correct\")\n",
    "    score +=1;\n",
    "else :\n",
    "     print(\"Wrong Answer\")\n",
    "print(\"\\n\")\n",
    "\n",
    "Ques4 = input(\"What does ALU  stand for  : \")\n",
    "if Ques4 == \"arithmetic logic unit\" :\n",
    "    print(\"Correct\")\n",
    "    score +=1;\n",
    "else :\n",
    "     print(\"Wrong Answer\")\n",
    "\n",
    "print(\"\\n\")\n",
    "\n",
    "Ques5 = input(\"What does PSU stand for  : \")\n",
    "if Ques5 == \"power supply unit\" :\n",
    "    print(\"Correct\")\n",
    "    score +=1;\n",
    "else :\n",
    "     print(\"Wrong Answer\")\n",
    "\n",
    "print(\"\\n\")\n",
    "\n",
    "print(\"You got \" + str(score) + \" questions correct\")\n",
    "print(\"Your final score is: \", ((score/5)*100) ,\"%\")\n"
   ]
  },
  {
   "cell_type": "code",
   "execution_count": null,
   "id": "6fada244-ad28-497b-8921-6e3aacf76cf2",
   "metadata": {},
   "outputs": [],
   "source": []
  },
  {
   "cell_type": "code",
   "execution_count": null,
   "id": "616b8e0f-4f34-4f7e-96c1-c7e3a7507a4c",
   "metadata": {},
   "outputs": [],
   "source": []
  },
  {
   "cell_type": "code",
   "execution_count": null,
   "id": "a501ddc3-a0b7-4ba0-aa30-35ef1a744c38",
   "metadata": {},
   "outputs": [],
   "source": []
  }
 ],
 "metadata": {
  "kernelspec": {
   "display_name": "Python 3 (ipykernel)",
   "language": "python",
   "name": "python3"
  },
  "language_info": {
   "codemirror_mode": {
    "name": "ipython",
    "version": 3
   },
   "file_extension": ".py",
   "mimetype": "text/x-python",
   "name": "python",
   "nbconvert_exporter": "python",
   "pygments_lexer": "ipython3",
   "version": "3.11.4"
  }
 },
 "nbformat": 4,
 "nbformat_minor": 5
}
