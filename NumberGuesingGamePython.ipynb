{
 "cells": [
  {
   "cell_type": "code",
   "execution_count": 36,
   "id": "31e8bafe-a786-48c0-ae5f-a252ff8f3730",
   "metadata": {},
   "outputs": [
    {
     "name": "stdin",
     "output_type": "stream",
     "text": [
      "guess a number between 0 and 10   : 0\n"
     ]
    },
    {
     "name": "stdout",
     "output_type": "stream",
     "text": [
      "Wrong guess !!!\n",
      "You were below the number !!!\n",
      "\n",
      "\n"
     ]
    },
    {
     "name": "stdin",
     "output_type": "stream",
     "text": [
      "guess a number between 0 and 10   : 1\n"
     ]
    },
    {
     "name": "stdout",
     "output_type": "stream",
     "text": [
      "Wrong guess !!!\n",
      "You were below the number !!!\n",
      "\n",
      "\n"
     ]
    },
    {
     "name": "stdin",
     "output_type": "stream",
     "text": [
      "guess a number between 0 and 10   : 2\n"
     ]
    },
    {
     "name": "stdout",
     "output_type": "stream",
     "text": [
      "Wrong guess !!!\n",
      "You were below the number !!!\n",
      "\n",
      "\n"
     ]
    },
    {
     "name": "stdin",
     "output_type": "stream",
     "text": [
      "guess a number between 0 and 10   : 3\n"
     ]
    },
    {
     "name": "stdout",
     "output_type": "stream",
     "text": [
      "Wrong guess !!!\n",
      "You were below the number !!!\n",
      "\n",
      "\n"
     ]
    },
    {
     "name": "stdin",
     "output_type": "stream",
     "text": [
      "guess a number between 0 and 10   : 4\n"
     ]
    },
    {
     "name": "stdout",
     "output_type": "stream",
     "text": [
      "Wrong guess !!!\n",
      "You were below the number !!!\n",
      "\n",
      "\n"
     ]
    },
    {
     "name": "stdin",
     "output_type": "stream",
     "text": [
      "guess a number between 0 and 10   : 5\n"
     ]
    },
    {
     "name": "stdout",
     "output_type": "stream",
     "text": [
      "Wrong guess !!!\n",
      "You were below the number !!!\n",
      "\n",
      "\n"
     ]
    },
    {
     "name": "stdin",
     "output_type": "stream",
     "text": [
      "guess a number between 0 and 10   : 6\n"
     ]
    },
    {
     "name": "stdout",
     "output_type": "stream",
     "text": [
      "Wrong guess !!!\n",
      "You were below the number !!!\n",
      "\n",
      "\n"
     ]
    },
    {
     "name": "stdin",
     "output_type": "stream",
     "text": [
      "guess a number between 0 and 10   : 7\n"
     ]
    },
    {
     "name": "stdout",
     "output_type": "stream",
     "text": [
      "Wrong guess !!!\n",
      "You were below the number !!!\n",
      "\n",
      "\n"
     ]
    },
    {
     "name": "stdin",
     "output_type": "stream",
     "text": [
      "guess a number between 0 and 10   : 8\n"
     ]
    },
    {
     "name": "stdout",
     "output_type": "stream",
     "text": [
      "Wrong guess !!!\n",
      "You were below the number !!!\n",
      "\n",
      "\n"
     ]
    },
    {
     "name": "stdin",
     "output_type": "stream",
     "text": [
      "guess a number between 0 and 10   : 9\n"
     ]
    },
    {
     "name": "stdout",
     "output_type": "stream",
     "text": [
      "You guessed it Right  !!!\n",
      "You got it in  9 guesses\n"
     ]
    }
   ],
   "source": [
    "import random ;\n",
    "num= random.randint(0,10)\n",
    "num= int(num)\n",
    "\n",
    "# print(\"This is num \",num)\n",
    "missed =0;\n",
    "\n",
    "while(num>=0):\n",
    "    guess= input(\"guess a number between 0 and 10   :\")\n",
    "    guess= int(guess);\n",
    "    if guess==num:\n",
    "        print(\"You guessed it Right  !!!\")\n",
    "        print (\"You got it in \" , missed ,\"guesses\" )\n",
    "        break;\n",
    "\n",
    "    else: \n",
    "        print(\"Wrong guess !!!\")\n",
    "        if guess >num :\n",
    "            print(\"You were above the number !!!\")\n",
    "        elif guess < num:\n",
    "            print(\"You were below the number !!!\")\n",
    "        missed = missed + 1 ;  \n",
    "        print(\"\\n\");\n",
    "       \n",
    "       "
   ]
  },
  {
   "cell_type": "code",
   "execution_count": null,
   "id": "ba4937f0-c294-4d7e-9704-cd02be9e7e73",
   "metadata": {},
   "outputs": [],
   "source": []
  },
  {
   "cell_type": "code",
   "execution_count": null,
   "id": "57875d96-4192-4cb4-8897-3acbe3d57668",
   "metadata": {},
   "outputs": [],
   "source": []
  },
  {
   "cell_type": "code",
   "execution_count": null,
   "id": "7cddb4e9-6281-4e1e-adf4-eb58796ea237",
   "metadata": {},
   "outputs": [],
   "source": []
  },
  {
   "cell_type": "code",
   "execution_count": null,
   "id": "21afaf55-823c-4f71-a50c-300e5b474d9c",
   "metadata": {},
   "outputs": [],
   "source": []
  },
  {
   "cell_type": "code",
   "execution_count": null,
   "id": "ff837040-f3bf-40bc-915f-e0285e632461",
   "metadata": {},
   "outputs": [],
   "source": []
  },
  {
   "cell_type": "code",
   "execution_count": null,
   "id": "5006990a-c139-44be-9532-197858a2faa8",
   "metadata": {},
   "outputs": [],
   "source": []
  }
 ],
 "metadata": {
  "kernelspec": {
   "display_name": "Python 3 (ipykernel)",
   "language": "python",
   "name": "python3"
  },
  "language_info": {
   "codemirror_mode": {
    "name": "ipython",
    "version": 3
   },
   "file_extension": ".py",
   "mimetype": "text/x-python",
   "name": "python",
   "nbconvert_exporter": "python",
   "pygments_lexer": "ipython3",
   "version": "3.11.4"
  }
 },
 "nbformat": 4,
 "nbformat_minor": 5
}
